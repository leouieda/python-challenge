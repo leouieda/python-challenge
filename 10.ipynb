{
 "cells": [
  {
   "cell_type": "markdown",
   "metadata": {},
   "source": [
    "# Challenge: http://www.pythonchallenge.com/pc/return/bull.html"
   ]
  },
  {
   "cell_type": "code",
   "execution_count": 1,
   "metadata": {
    "collapsed": true
   },
   "outputs": [],
   "source": [
    "%matplotlib inline\n",
    "import requests\n",
    "import re"
   ]
  },
  {
   "cell_type": "code",
   "execution_count": 2,
   "metadata": {
    "collapsed": false
   },
   "outputs": [
    {
     "name": "stdout",
     "output_type": "stream",
     "text": [
      "<html>\n",
      "<head>\n",
      "  <title>what are you looking at?</title>\n",
      "  <link rel=\"stylesheet\" type=\"text/css\" href=\"../style.css\">\n",
      "</head>\n",
      "<body>\n",
      "\t<br><br>\n",
      "\t<center>\n",
      "\t<img src=\"bull.jpg\" width=\"640\" height=\"480\" border=\"0\" usemap=\"#bull\"/>\n",
      "\t<map name=\"bull\">\n",
      "\t<area shape=\"poly\" coords=\"146,399,163,403,170,393,169,391,166,386,170,381,170,371,170,355,169,346,167,335,170,329,170,320,170,310,171,301,173,290,178,289,182,287,188,286,190,286,192,291,194,296,195,305,194,307,191,312,190,316,190,321,192,331,193,338,196,341,197,346,199,352,198,360,197,366,197,373,196,380,197,383,196,387,192,389,191,392,190,396,189,400,194,401,201,402,208,403,213,402,216,401,219,397,219,393,216,390,215,385,215,379,213,373,213,365,212,360,210,353,210,347,212,338,213,329,214,319,215,311,215,306,216,296,218,290,221,283,225,282,233,284,238,287,243,290,250,291,255,294,261,293,265,291,271,291,273,289,278,287,279,285,281,280,284,278,284,276,287,277,289,283,291,286,294,291,296,295,299,300,301,304,304,320,305,327,306,332,307,341,306,349,303,354,301,364,301,371,297,375,292,384,291,386,302,393,324,391,333,387,328,375,329,367,329,353,330,341,331,328,336,319,338,310,341,304,341,285,341,278,343,269,344,262,346,259,346,251,349,259,349,264,349,273,349,280,349,288,349,295,349,298,354,293,356,286,354,279,352,268,352,257,351,249,350,234,351,211,352,197,354,185,353,171,351,154,348,147,342,137,339,132,330,122,327,120,314,116,304,117,293,118,284,118,281,122,275,128,265,129,257,131,244,133,239,134,228,136,221,137,214,138,209,135,201,132,192,130,184,131,175,129,170,131,159,134,157,134,160,130,170,125,176,114,176,102,173,103,172,108,171,111,163,115,156,116,149,117,142,116,136,115,129,115,124,115,120,115,115,117,113,120,109,122,102,122,100,121,95,121,89,115,87,110,82,109,84,118,89,123,93,129,100,130,108,132,110,133,110,136,107,138,105,140,95,138,86,141,79,149,77,155,81,162,90,165,97,167,99,171,109,171,107,161,111,156,113,170,115,185,118,208,117,223,121,239,128,251,133,259,136,266,139,276,143,290,148,310,151,332,155,348,156,353,153,366,149,379,147,394,146,399\" \n",
      "\t\thref=\"sequence.txt\" />\n",
      "\t</map>\n",
      "\t<br>\n",
      "\t<br>\n",
      "\t<font color=\"gold\" size=\"+1\">len(a[30]) = ?</font>\n",
      "</body>\n",
      "</html>\n",
      "\n"
     ]
    }
   ],
   "source": [
    "url = 'http://www.pythonchallenge.com/pc/return/{}'\n",
    "# Use the username and password from challenge 8\n",
    "auth = ('huge', 'file')\n",
    "r = requests.get(url.format('bull.html'), auth=auth)\n",
    "page = r.text\n",
    "print(page)"
   ]
  },
  {
   "cell_type": "markdown",
   "metadata": {},
   "source": [
    "Download `sequence.txt`."
   ]
  },
  {
   "cell_type": "code",
   "execution_count": 3,
   "metadata": {
    "collapsed": false
   },
   "outputs": [
    {
     "name": "stdout",
     "output_type": "stream",
     "text": [
      "a = [1, 11, 21, 1211, 111221, \n",
      "\n"
     ]
    }
   ],
   "source": [
    "r = requests.get(url.format('sequence.txt'), auth=auth)\n",
    "sequence = r.text\n",
    "print(sequence)"
   ]
  },
  {
   "cell_type": "markdown",
   "metadata": {},
   "source": [
    "Reading the sequence as \"one\", \"one one\", \"two one\", \"one two one one\", \"one one one two two one\". It's counting the number of consecutive occurences of each character and putting that as the next element."
   ]
  },
  {
   "cell_type": "markdown",
   "metadata": {},
   "source": [
    "Use a regular expression that matches any digit (it is placed in a group: `'(\\d)'`) and any other occurrences of the same group (the `\\1` reffers to the first group in the pattern)."
   ]
  },
  {
   "cell_type": "code",
   "execution_count": 4,
   "metadata": {
    "collapsed": false
   },
   "outputs": [
    {
     "name": "stdout",
     "output_type": "stream",
     "text": [
      "['1', '11', '21', '1211', '111221', '312211', '13112221', '1113213211', '31131211131221', '13211311123113112211']\n"
     ]
    }
   ],
   "source": [
    "pattern = re.compile(r'(\\d)\\1*')\n",
    "a = ['1']\n",
    "for i in range(30):\n",
    "    last = a[-1]\n",
    "    chunks = [match.group() for match in pattern.finditer(last)]\n",
    "    digits = ['{}{}'.format(len(chunk), chunk[0])\n",
    "              for chunk in chunks]\n",
    "    a.append(''.join(digits))\n",
    "    \n",
    "print(a[:10])"
   ]
  },
  {
   "cell_type": "code",
   "execution_count": 5,
   "metadata": {
    "collapsed": false
   },
   "outputs": [
    {
     "name": "stdout",
     "output_type": "stream",
     "text": [
      "Solution: http://www.pythonchallenge.com/pc/return/5808.html\n"
     ]
    }
   ],
   "source": [
    "solution = url.format('{}.html'.format(len(a[30])))\n",
    "print('Solution:', solution)"
   ]
  }
 ],
 "metadata": {
  "kernelspec": {
   "display_name": "Python [challenge]",
   "language": "python",
   "name": "Python [challenge]"
  },
  "language_info": {
   "codemirror_mode": {
    "name": "ipython",
    "version": 3
   },
   "file_extension": ".py",
   "mimetype": "text/x-python",
   "name": "python",
   "nbconvert_exporter": "python",
   "pygments_lexer": "ipython3",
   "version": "3.5.2"
  }
 },
 "nbformat": 4,
 "nbformat_minor": 0
}
