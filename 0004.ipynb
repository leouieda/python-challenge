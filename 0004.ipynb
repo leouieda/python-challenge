{
 "cells": [
  {
   "cell_type": "markdown",
   "metadata": {},
   "source": [
    "# Challenge: http://www.pythonchallenge.com/pc/def/linkedlist.php"
   ]
  },
  {
   "cell_type": "code",
   "execution_count": 1,
   "metadata": {
    "collapsed": true
   },
   "outputs": [],
   "source": [
    "from urllib import request\n",
    "import re"
   ]
  },
  {
   "cell_type": "code",
   "execution_count": 2,
   "metadata": {
    "collapsed": true
   },
   "outputs": [],
   "source": [
    "url = 'http://www.pythonchallenge.com/pc/def/{}'"
   ]
  },
  {
   "cell_type": "code",
   "execution_count": 5,
   "metadata": {
    "collapsed": true
   },
   "outputs": [],
   "source": [
    "with request.urlopen(url.format('linkedlist.php')) as response:\n",
    "    # decode transforms the bytes read into unicode\n",
    "    page = response.read().decode()"
   ]
  },
  {
   "cell_type": "code",
   "execution_count": 6,
   "metadata": {
    "collapsed": false
   },
   "outputs": [
    {
     "name": "stdout",
     "output_type": "stream",
     "text": [
      "<html>\n",
      "<head>\n",
      "  <title>follow the chain</title>\n",
      "  <link rel=\"stylesheet\" type=\"text/css\" href=\"../style.css\">\n",
      "</head>\n",
      "<body>\n",
      "<!-- urllib may help. DON'T TRY ALL NOTHINGS, since it will never \n",
      "end. 400 times is more than enough. -->\n",
      "<center>\n",
      "<a href=\"linkedlist.php?nothing=12345\"><img src=\"chainsaw.jpg\" border=\"0\"/></a>\n",
      "<br><br><font color=\"gold\"></center>\n",
      "Solutions to previous levels: <a href=\"http://wiki.pythonchallenge.com/\"/>Python Challenge wiki</a>.\n",
      "<br><br>\n",
      "IRC: irc.freenode.net #pythonchallenge\n",
      "</body>\n",
      "</html>\n",
      "\n",
      "\n"
     ]
    }
   ],
   "source": [
    "print(page)"
   ]
  },
  {
   "cell_type": "code",
   "execution_count": 7,
   "metadata": {
    "collapsed": true
   },
   "outputs": [],
   "source": [
    "nothing_url = url.format('linkedlist.php') + '?nothing={}'"
   ]
  },
  {
   "cell_type": "code",
   "execution_count": 10,
   "metadata": {
    "collapsed": false
   },
   "outputs": [
    {
     "name": "stdout",
     "output_type": "stream",
     "text": [
      "and the next nothing is 44827\n"
     ]
    }
   ],
   "source": [
    "def fetch(nothing):\n",
    "    with request.urlopen(nothing_url.format(nothing)) as response:\n",
    "        page = response.read().decode()\n",
    "    return page\n",
    "        \n",
    "print(fetch('12345'))"
   ]
  },
  {
   "cell_type": "code",
   "execution_count": 32,
   "metadata": {
    "collapsed": true
   },
   "outputs": [],
   "source": [
    "valid_pattern = re.compile('and the next nothing is \\d+')\n",
    "isvalid = lambda text: valid_pattern.search(text) is not None"
   ]
  },
  {
   "cell_type": "code",
   "execution_count": 33,
   "metadata": {
    "collapsed": true
   },
   "outputs": [],
   "source": [
    "pattern = re.compile('\\d+')\n",
    "get_nothing = lambda text: pattern.findall(text)"
   ]
  },
  {
   "cell_type": "code",
   "execution_count": 38,
   "metadata": {
    "collapsed": false
   },
   "outputs": [
    {
     "name": "stdout",
     "output_type": "stream",
     "text": [
      "44827\n"
     ]
    }
   ],
   "source": [
    "start = get_nothing(fetch('12345'))[0]\n",
    "print(start)"
   ]
  },
  {
   "cell_type": "code",
   "execution_count": 39,
   "metadata": {
    "collapsed": false
   },
   "outputs": [],
   "source": [
    "def search(start):\n",
    "    nothing = start\n",
    "    for i in range(400):\n",
    "        text = fetch(nothing)\n",
    "        if isvalid(text):\n",
    "            nothing = get_nothing(text)[0]\n",
    "        else:\n",
    "            break\n",
    "    return i, text, nothing"
   ]
  },
  {
   "cell_type": "code",
   "execution_count": 40,
   "metadata": {
    "collapsed": false
   },
   "outputs": [
    {
     "name": "stdout",
     "output_type": "stream",
     "text": [
      "Yes. Divide by two and keep going.\n",
      "16044\n"
     ]
    }
   ],
   "source": [
    "i, text, nothing = search(start)\n",
    "print(text)\n",
    "print(nothing)"
   ]
  },
  {
   "cell_type": "code",
   "execution_count": 41,
   "metadata": {
    "collapsed": false
   },
   "outputs": [
    {
     "name": "stdout",
     "output_type": "stream",
     "text": [
      "You've been misleaded to here. Go to previous \n",
      "one and check.\n",
      "82683\n"
     ]
    }
   ],
   "source": [
    "i, text, nothing = search(str(int(nothing)//2))\n",
    "print(text)\n",
    "print(nothing)"
   ]
  },
  {
   "cell_type": "code",
   "execution_count": null,
   "metadata": {
    "collapsed": true
   },
   "outputs": [],
   "source": []
  }
 ],
 "metadata": {
  "anaconda-cloud": {},
  "kernelspec": {
   "display_name": "Python [Root]",
   "language": "python",
   "name": "Python [Root]"
  },
  "language_info": {
   "codemirror_mode": {
    "name": "ipython",
    "version": 3
   },
   "file_extension": ".py",
   "mimetype": "text/x-python",
   "name": "python",
   "nbconvert_exporter": "python",
   "pygments_lexer": "ipython3",
   "version": "3.5.2"
  }
 },
 "nbformat": 4,
 "nbformat_minor": 0
}
