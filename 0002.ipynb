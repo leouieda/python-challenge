{
 "cells": [
  {
   "cell_type": "markdown",
   "metadata": {},
   "source": [
    "#  Challenge: http://www.pythonchallenge.com/pc/def/ocr.html"
   ]
  },
  {
   "cell_type": "code",
   "execution_count": 1,
   "metadata": {
    "collapsed": true
   },
   "outputs": [],
   "source": [
    "from urllib import request"
   ]
  },
  {
   "cell_type": "code",
   "execution_count": 2,
   "metadata": {
    "collapsed": false
   },
   "outputs": [],
   "source": [
    "with request.urlopen('http://www.pythonchallenge.com/pc/def/ocr.html') as response:\n",
    "    # decode transforms the bytes read into unicode\n",
    "    data = response.read().decode()"
   ]
  },
  {
   "cell_type": "code",
   "execution_count": 3,
   "metadata": {
    "collapsed": false
   },
   "outputs": [
    {
     "name": "stdout",
     "output_type": "stream",
     "text": [
      "0   <html>\n",
      "1   <head>\n",
      "2     <title>ocr</title>\n",
      "3     <link rel=\"stylesheet\" type=\"text/css\" href=\"../style.css\">\n",
      "4   </head>\n",
      "5   <body>\n",
      "6   <center><img src=\"ocr.jpg\">\n",
      "7   <br><font color=\"#c03000\">\n",
      "8   recognize the characters. maybe they are in the book, <br>but MAYBE they \n",
      "9   are in the page source.</center>\n",
      "10   \n",
      "11   <br>\n",
      "12   <br>\n",
      "13   <br>\n",
      "14   \n",
      "15   <font size=\"-1\" color=\"gold\">\n",
      "16   General tips:\n",
      "17   <li>Use the hints. They are helpful, most of the times.</li>\n",
      "18   <li>Investigate the data given to you.</li>\n",
      "19   <li>Avoid looking for spoilers.</li>\n",
      "20   <br>\n",
      "21   Forums: <a href=\"http://www.pythonchallenge.com/forums\"/>Python Challenge Forums</a>, \n",
      "22   read before you post.\n",
      "23   <br>\n",
      "24   IRC: irc.freenode.net #pythonchallenge\n",
      "25   <br><br>\n",
      "26   To see the solutions to the previous level, replace pc with pcc, i.e. go \n",
      "27   to: http://www.pythonchallenge.com/pcc/def/ocr.html\n",
      "28   \n",
      "29   </body>\n",
      "30   </html>\n",
      "31   \n",
      "32   <!--\n",
      "33   find rare characters in the mess below:\n",
      "34   -->\n",
      "35   \n",
      "36   <!--\n",
      "37   %%$@_$^__#)^)&!_+]!*@&^}@[@%]()%+$&[(_@%+%$*^@$^!+]!&_#)_*}{}}!}_]$[%}@[{_@#_^{*\n",
      "38   @##&{#&{&)*%(]{{([*}@[@&]+!!*{)!}{%+{))])[!^})+)$]#{*+^((@^@}$[**$&^{$!@#$%)!@(&\n",
      "39   +^!{%_$&@^!}$_${)$_#)!({@!)(^}!*^&!$%_&&}&_#&@{)]{+)%*{&*%*&@%$+]!*__(#!*){%&@++\n",
      "\n",
      "...\n",
      "\n",
      "-20   _+@#[})]])[((#@&]!&]*&{*&#_[#(]{(}!]_+@[{^+{{!)*{!}]@@^#*{*({(%#(@@(]{%]!@@+%!!*\n",
      "-19   %(!{&^%%&$(!#@{+*#+*{]![}!!(${@*+$}+__}_}{)@)^*[$!@[+)+](#!!{]#*^&)!%&)%*]*#$]()\n",
      "-18   ]!{][@$}@)$__*_]}^(#*!#!_!**@{(&![]$_+_%^#_!%!$&@](!%%((%[#]&&}_{]+[+*##])(]%^(+\n",
      "-17   #(_}((]@}#$^_})%#&&((!^![^}+!}{$(%*{*$@%][)[[%&^[{](&+^*!!!([__[{^}&%+&^(*&])*$&\n",
      "-16   $#_}*!(+([_&%{^&[([%]}*^{{([@+@]@*&@_!]_+([(#&!]]#$$#]@#{_]][_{@]{*))$({%}_![@$]\n",
      "-15   #)+[])%]$+^^(}^!([&{)!#}#}}#!}[]]{[++&!)]#]]%^%_&_}!&&$@#&!#}&+]$)^_^*$]!$)}&{#)\n",
      "-14   +[+!_${^](+([&_%&$)#{$%#[%%][($()+!*_(*&!}%@}@%_#+%{%&*$]*{$(}}{)}]%))$}*^$]$(^^\n",
      "-13   !&*[^]]&#%&%!_+#&}_#}_]&^+@]%(!+!_*](@]}__+@%+^!&[@[)@(!*[%}^$!$(]!^_])!&_!!_[{*\n",
      "-12   (+*]_}%+(%[{)]({#[+$&&[^@{&#!@%)!+&}$@+@[+&_*!$(+#*%!+$@{{^**{)(]*$(}+(#+^}%@%^^\n",
      "-11   !$%}$$}+@^$$%{}{#!(%[]$!*}+(]!%{(^{&^{$[$)]&&^+{+%!#[([%^!{]]#^@!{#(&]@_$*_&!%(!\n",
      "-10   +_+}%@#{_}^#*)%*(*}*![}[%_[[^@$&%)([*{_${)$^^_!+}{)!)@_[*$_}*}$#[+}{]*+!^])}&{+#\n",
      "-9   +!@!^*@}!}&{]*#^@}_[)}#@%!_*#!$}!)[(${+^&!{[&&&*[{}+*+(#+_[}{$$)#([*!)%@^%_]#%$$\n",
      "-8   (++^+&)}*_&%@#[^^+^&@_%]+$%$#$*)@!(]*+@]}%$$}$(#$&^(%[*([&]*^&}(!#{&_}^(*{(+$#}}\n",
      "-7   (&_+][&_@)$&$&^[_$(++$^}]&^^*(+*!&#_$]*+@!]+{%^_*+!&}@$!#^{+_#([+@(((*+)[()__}(^\n",
      "-6   @)](+[$*_(]*$[[&@^(_*#(*&!^{+]_%)_)^[}@]#]%#@+^+[%{_*{!)}#$@#)_$!_(!*+#}%%}+$&$[\n",
      "-5   %&]!{{%*_!*}&)}$**_{*!#%[[#]!](^^$![#[[*}%(_#^^!%))!_^@)@**@}}(%%{#*%@(((]^%^![&\n",
      "-4   }!)$]&($)@](+(#{$)_%^%_^^#][{*[)%}+[##(##^{$}^]#&(&*{)%)&][&{]&#]}[[^^&[!#}${@_(\n",
      "-3   #@}&$[[%]_&$+)$!%{(}$^$}*\n",
      "-2   -->\n",
      "-1   \n"
     ]
    }
   ],
   "source": [
    "lines = data.splitlines()\n",
    "for i in range(40):\n",
    "    print(i, ' ', lines[i])\n",
    "print('\\n...\\n')\n",
    "for i in range(-20, 0, 1):\n",
    "    print(i, ' ', lines[i])"
   ]
  },
  {
   "cell_type": "code",
   "execution_count": 4,
   "metadata": {
    "collapsed": true
   },
   "outputs": [],
   "source": [
    "mess = ''.join(lines[37:-2])"
   ]
  },
  {
   "cell_type": "code",
   "execution_count": 5,
   "metadata": {
    "collapsed": false
   },
   "outputs": [],
   "source": [
    "import re"
   ]
  },
  {
   "cell_type": "code",
   "execution_count": 6,
   "metadata": {
    "collapsed": false
   },
   "outputs": [
    {
     "name": "stdout",
     "output_type": "stream",
     "text": [
      "equality\n"
     ]
    }
   ],
   "source": [
    "characters = re.compile('[a-z]', re.IGNORECASE).findall(mess)\n",
    "word = ''.join(characters)\n",
    "print(word)"
   ]
  },
  {
   "cell_type": "code",
   "execution_count": 7,
   "metadata": {
    "collapsed": false
   },
   "outputs": [
    {
     "name": "stdout",
     "output_type": "stream",
     "text": [
      "Solution:  http://www.pythonchallenge.com/pc/def/equality.html\n"
     ]
    }
   ],
   "source": [
    "solution = ' http://www.pythonchallenge.com/pc/def/{}.html'.format(word)\n",
    "print(\"Solution:\", solution)"
   ]
  }
 ],
 "metadata": {
  "anaconda-cloud": {},
  "kernelspec": {
   "display_name": "Python [Root]",
   "language": "python",
   "name": "Python [Root]"
  },
  "language_info": {
   "codemirror_mode": {
    "name": "ipython",
    "version": 3
   },
   "file_extension": ".py",
   "mimetype": "text/x-python",
   "name": "python",
   "nbconvert_exporter": "python",
   "pygments_lexer": "ipython3",
   "version": "3.5.2"
  }
 },
 "nbformat": 4,
 "nbformat_minor": 0
}
