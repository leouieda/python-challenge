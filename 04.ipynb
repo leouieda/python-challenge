{
 "cells": [
  {
   "cell_type": "markdown",
   "metadata": {},
   "source": [
    "# Challenge: http://www.pythonchallenge.com/pc/def/linkedlist.php"
   ]
  },
  {
   "cell_type": "code",
   "execution_count": 1,
   "metadata": {
    "collapsed": true
   },
   "outputs": [],
   "source": [
    "from urllib import request\n",
    "import re"
   ]
  },
  {
   "cell_type": "code",
   "execution_count": 2,
   "metadata": {
    "collapsed": true
   },
   "outputs": [],
   "source": [
    "url = 'http://www.pythonchallenge.com/pc/def/{}'"
   ]
  },
  {
   "cell_type": "markdown",
   "metadata": {},
   "source": [
    "Get the HTML of this challenge."
   ]
  },
  {
   "cell_type": "code",
   "execution_count": 3,
   "metadata": {
    "collapsed": false
   },
   "outputs": [],
   "source": [
    "with request.urlopen(url.format('linkedlist.php')) as response:\n",
    "    # decode transforms the bytes read into unicode\n",
    "    page = response.read().decode()"
   ]
  },
  {
   "cell_type": "code",
   "execution_count": 4,
   "metadata": {
    "collapsed": false
   },
   "outputs": [
    {
     "name": "stdout",
     "output_type": "stream",
     "text": [
      "<html>\n",
      "<head>\n",
      "  <title>follow the chain</title>\n",
      "  <link rel=\"stylesheet\" type=\"text/css\" href=\"../style.css\">\n",
      "</head>\n",
      "<body>\n",
      "<!-- urllib may help. DON'T TRY ALL NOTHINGS, since it will never \n",
      "end. 400 times is more than enough. -->\n",
      "<center>\n",
      "<a href=\"linkedlist.php?nothing=12345\"><img src=\"chainsaw.jpg\" border=\"0\"/></a>\n",
      "<br><br><font color=\"gold\"></center>\n",
      "Solutions to previous levels: <a href=\"http://wiki.pythonchallenge.com/\"/>Python Challenge wiki</a>.\n",
      "<br><br>\n",
      "IRC: irc.freenode.net #pythonchallenge\n",
      "</body>\n",
      "</html>\n",
      "\n",
      "\n"
     ]
    }
   ],
   "source": [
    "print(page)"
   ]
  },
  {
   "cell_type": "markdown",
   "metadata": {},
   "source": [
    "Some utility functions for crawling the linked list of sites."
   ]
  },
  {
   "cell_type": "code",
   "execution_count": 5,
   "metadata": {
    "collapsed": true
   },
   "outputs": [],
   "source": [
    "nothing_url = url.format('linkedlist.php') + '?nothing={}'"
   ]
  },
  {
   "cell_type": "code",
   "execution_count": 6,
   "metadata": {
    "collapsed": false
   },
   "outputs": [
    {
     "name": "stdout",
     "output_type": "stream",
     "text": [
      "and the next nothing is 44827\n"
     ]
    }
   ],
   "source": [
    "def fetch(nothing):\n",
    "    with request.urlopen(nothing_url.format(nothing)) as response:\n",
    "        page = response.read().decode()\n",
    "    return page\n",
    "        \n",
    "print(fetch('12345'))"
   ]
  },
  {
   "cell_type": "code",
   "execution_count": 7,
   "metadata": {
    "collapsed": true
   },
   "outputs": [],
   "source": [
    "valid = re.compile('and the next nothing is \\d+')\n",
    "isvalid = lambda text: valid.search(text) is not None"
   ]
  },
  {
   "cell_type": "code",
   "execution_count": 8,
   "metadata": {
    "collapsed": true
   },
   "outputs": [],
   "source": [
    "pattern = re.compile('\\d+')\n",
    "# Get the number from only the part of the text that has a valid pattern\n",
    "get_nothing = lambda text: pattern.findall(valid.findall(text)[0])"
   ]
  },
  {
   "cell_type": "code",
   "execution_count": 9,
   "metadata": {
    "collapsed": false
   },
   "outputs": [],
   "source": [
    "def crawl(start):\n",
    "    nothings = [start]\n",
    "    for i in range(400):\n",
    "        text = fetch(nothings[-1])\n",
    "        if isvalid(text):\n",
    "            nothings.append(get_nothing(text)[0])\n",
    "        else:\n",
    "            break\n",
    "    return text, nothings"
   ]
  },
  {
   "cell_type": "markdown",
   "metadata": {},
   "source": [
    "Start the crawler."
   ]
  },
  {
   "cell_type": "code",
   "execution_count": 10,
   "metadata": {
    "collapsed": false
   },
   "outputs": [
    {
     "name": "stdout",
     "output_type": "stream",
     "text": [
      "Yes. Divide by two and keep going.\n",
      "16044\n"
     ]
    }
   ],
   "source": [
    "text, nothings = crawl('12345')\n",
    "print(text)\n",
    "print(nothings[-1])"
   ]
  },
  {
   "cell_type": "code",
   "execution_count": 11,
   "metadata": {
    "collapsed": false
   },
   "outputs": [
    {
     "name": "stdout",
     "output_type": "stream",
     "text": [
      "8022\n"
     ]
    }
   ],
   "source": [
    "by_two = str(int(nothings[-1])//2)\n",
    "print(by_two)"
   ]
  },
  {
   "cell_type": "code",
   "execution_count": 12,
   "metadata": {
    "collapsed": false
   },
   "outputs": [
    {
     "name": "stdout",
     "output_type": "stream",
     "text": [
      "peak.html\n",
      "66831\n"
     ]
    }
   ],
   "source": [
    "text, nothings2 = crawl(by_two)\n",
    "print(text)\n",
    "print(nothings2[-1])"
   ]
  },
  {
   "cell_type": "code",
   "execution_count": 14,
   "metadata": {
    "collapsed": false
   },
   "outputs": [
    {
     "name": "stdout",
     "output_type": "stream",
     "text": [
      "Solution: http://www.pythonchallenge.com/pc/def/peak.html\n"
     ]
    }
   ],
   "source": [
    "solution = url.format('peak.html')\n",
    "print('Solution:', solution)"
   ]
  }
 ],
 "metadata": {
  "anaconda-cloud": {},
  "kernelspec": {
   "display_name": "Python [Root]",
   "language": "python",
   "name": "Python [Root]"
  },
  "language_info": {
   "codemirror_mode": {
    "name": "ipython",
    "version": 3
   },
   "file_extension": ".py",
   "mimetype": "text/x-python",
   "name": "python",
   "nbconvert_exporter": "python",
   "pygments_lexer": "ipython3",
   "version": "3.5.2"
  }
 },
 "nbformat": 4,
 "nbformat_minor": 0
}
