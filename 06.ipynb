{
 "cells": [
  {
   "cell_type": "markdown",
   "metadata": {},
   "source": [
    "# Challenge: http://www.pythonchallenge.com/pc/def/channel.html"
   ]
  },
  {
   "cell_type": "code",
   "execution_count": 1,
   "metadata": {
    "collapsed": false
   },
   "outputs": [],
   "source": [
    "from urllib import request\n",
    "from zipfile import ZipFile\n",
    "import re"
   ]
  },
  {
   "cell_type": "markdown",
   "metadata": {},
   "source": [
    "Get the HTML."
   ]
  },
  {
   "cell_type": "code",
   "execution_count": 2,
   "metadata": {
    "collapsed": false
   },
   "outputs": [
    {
     "name": "stdout",
     "output_type": "stream",
     "text": [
      "<html> <!-- <-- zip -->\n",
      "<head>\n",
      "  <title>now there are pairs</title>\n",
      "  <link rel=\"stylesheet\" type=\"text/css\" href=\"../style.css\">\n",
      "</head>\n",
      "<body>\n",
      "<center>\n",
      "<img src=\"channel.jpg\">\n",
      "<br/>\n",
      "<!-- The following has nothing to do with the riddle itself. I just\n",
      "thought it would be the right point to offer you to donate to the\n",
      "Python Challenge project. Any amount will be greatly appreciated.\n",
      "\n",
      "-thesamet\n",
      "-->\n",
      "\n",
      "<form action=\"https://www.paypal.com/cgi-bin/webscr\" method=\"post\">\n",
      "    <input type=\"hidden\" name=\"cmd\" value=\"_xclick\">\n",
      "    <input type=\"hidden\" name=\"business\" value=\"thesamet@gmail.com\">\n",
      "    <input type=\"hidden\" name=\"item_name\" value=\"Python Challenge donations\">\n",
      "    <input type=\"hidden\" name=\"no_note\" value=\"1\">\n",
      "    <input type=\"hidden\" name=\"currency_code\" value=\"USD\">\n",
      "    <input type=\"hidden\" name=\"tax\" value=\"0\">\n",
      "    <input type=\"hidden\" name=\"bn\" value=\"PP-DonationsBF\">\n",
      "    <input type=\"image\" src=\"https://www.paypal.com/en_US/i/btn/x-click-but04.gif\" border=\"0\" name=\"submit\" alt=\"Make payments with PayPal - it's fast, free and secure!\">\n",
      "    <img alt=\"\" border=\"0\" src=\"https://www.paypal.com/en_US/i/scr/pixel.gif\" width=\"1\" height=\"1\">\n",
      "</form>\n",
      "\n",
      "</body>\n",
      "</html>\n",
      "\n"
     ]
    }
   ],
   "source": [
    "url = 'http://www.pythonchallenge.com/pc/def/{}'\n",
    "with request.urlopen(url.format('channel.html')) as response:\n",
    "    # decode transforms the bytes read into unicode\n",
    "    page = response.read().decode()\n",
    "print(page)"
   ]
  },
  {
   "cell_type": "code",
   "execution_count": 3,
   "metadata": {
    "collapsed": false
   },
   "outputs": [
    {
     "name": "stdout",
     "output_type": "stream",
     "text": [
      "yes. find the zip.\n",
      "\n",
      "\n"
     ]
    }
   ],
   "source": [
    "with request.urlopen(url.format('zip.html')) as response:\n",
    "    page = response.read().decode()\n",
    "print(page)"
   ]
  },
  {
   "cell_type": "code",
   "execution_count": 4,
   "metadata": {
    "collapsed": false
   },
   "outputs": [
    {
     "name": "stdout",
     "output_type": "stream",
     "text": [
      "files/channel.zip\n"
     ]
    }
   ],
   "source": [
    "fname, headers = request.urlretrieve(url=url.format('channel.zip'), filename='files/channel.zip')\n",
    "print(fname)"
   ]
  },
  {
   "cell_type": "code",
   "execution_count": 5,
   "metadata": {
    "collapsed": true
   },
   "outputs": [],
   "source": [
    "zf = ZipFile(fname)"
   ]
  },
  {
   "cell_type": "code",
   "execution_count": 6,
   "metadata": {
    "collapsed": false
   },
   "outputs": [
    {
     "name": "stdout",
     "output_type": "stream",
     "text": [
      "welcome to my zipped list.\n",
      "\n",
      "hint1: start from 90052\n",
      "hint2: answer is inside the zip\n",
      "\n"
     ]
    }
   ],
   "source": [
    "with zf.open('readme.txt') as f:\n",
    "    print(f.read().decode())"
   ]
  },
  {
   "cell_type": "code",
   "execution_count": 7,
   "metadata": {
    "collapsed": false
   },
   "outputs": [
    {
     "name": "stdout",
     "output_type": "stream",
     "text": [
      "Next nothing is 94191\n"
     ]
    }
   ],
   "source": [
    "with zf.open('90052.txt') as f:\n",
    "    print(f.read().decode())"
   ]
  },
  {
   "cell_type": "markdown",
   "metadata": {},
   "source": [
    "Get the code from [number 4](04.ipynb)."
   ]
  },
  {
   "cell_type": "code",
   "execution_count": 8,
   "metadata": {
    "collapsed": false
   },
   "outputs": [],
   "source": [
    "valid = re.compile('Next nothing is \\d+')\n",
    "isvalid = lambda text: valid.search(text) is not None\n",
    "pattern = re.compile('\\d+')\n",
    "# Get the number from only the part of the text that has a valid pattern\n",
    "get_nothing = lambda text: pattern.findall(valid.findall(text)[0])\n",
    "\n",
    "def fetch(nothing):\n",
    "    with zf.open('{}.txt'.format(nothing)) as f:\n",
    "        text = f.read().decode()\n",
    "    return text    \n",
    "\n",
    "def crawl(start):\n",
    "    nothings = [start]\n",
    "    for i in range(len(zf.filelist)):\n",
    "        text = fetch(nothings[-1])\n",
    "        if isvalid(text):\n",
    "            nothings.append(get_nothing(text)[0])\n",
    "        else:\n",
    "            break\n",
    "    return text, nothings"
   ]
  },
  {
   "cell_type": "code",
   "execution_count": 9,
   "metadata": {
    "collapsed": false
   },
   "outputs": [
    {
     "name": "stdout",
     "output_type": "stream",
     "text": [
      "Collect the comments.\n"
     ]
    }
   ],
   "source": [
    "text, nothings = crawl('90052')\n",
    "print(text)"
   ]
  },
  {
   "cell_type": "code",
   "execution_count": 10,
   "metadata": {
    "collapsed": false
   },
   "outputs": [
    {
     "name": "stdout",
     "output_type": "stream",
     "text": [
      "b'*'\n"
     ]
    }
   ],
   "source": [
    "info = zf.getinfo('90052.txt')\n",
    "print(info.comment)"
   ]
  },
  {
   "cell_type": "markdown",
   "metadata": {},
   "source": [
    "Crawl again but collecting the comments from each file."
   ]
  },
  {
   "cell_type": "code",
   "execution_count": 11,
   "metadata": {
    "collapsed": true
   },
   "outputs": [],
   "source": [
    "def fetch_with_comment(nothing):\n",
    "    fname = '{}.txt'.format(nothing)\n",
    "    with zf.open(fname) as f:\n",
    "        text = f.read().decode()\n",
    "    comment = zf.getinfo(fname).comment.decode()\n",
    "    return text, comment\n",
    "\n",
    "def collect_comments(start):\n",
    "    nothings = [start]\n",
    "    comments = []\n",
    "    for i in range(len(zf.filelist)):\n",
    "        text, comment = fetch_with_comment(nothings[-1])\n",
    "        comments.append(comment)\n",
    "        if isvalid(text):\n",
    "            nothings.append(get_nothing(text)[0])\n",
    "        else:\n",
    "            break\n",
    "    return text, nothings, ''.join(comments)"
   ]
  },
  {
   "cell_type": "code",
   "execution_count": 12,
   "metadata": {
    "collapsed": false
   },
   "outputs": [
    {
     "name": "stdout",
     "output_type": "stream",
     "text": [
      "****************************************************************\n",
      "****************************************************************\n",
      "**                                                            **\n",
      "**   OO    OO    XX      YYYY    GG    GG  EEEEEE NN      NN  **\n",
      "**   OO    OO  XXXXXX   YYYYYY   GG   GG   EEEEEE  NN    NN   **\n",
      "**   OO    OO XXX  XXX YYY   YY  GG GG     EE       NN  NN    **\n",
      "**   OOOOOOOO XX    XX YY        GGG       EEEEE     NNNN     **\n",
      "**   OOOOOOOO XX    XX YY        GGG       EEEEE      NN      **\n",
      "**   OO    OO XXX  XXX YYY   YY  GG GG     EE         NN      **\n",
      "**   OO    OO  XXXXXX   YYYYYY   GG   GG   EEEEEE     NN      **\n",
      "**   OO    OO    XX      YYYY    GG    GG  EEEEEE     NN      **\n",
      "**                                                            **\n",
      "****************************************************************\n",
      " **************************************************************\n",
      "\n"
     ]
    }
   ],
   "source": [
    "text, nothings, comments = collect_comments('90052')\n",
    "print(comments)"
   ]
  },
  {
   "cell_type": "code",
   "execution_count": 13,
   "metadata": {
    "collapsed": true
   },
   "outputs": [],
   "source": [
    "zf.close()"
   ]
  },
  {
   "cell_type": "code",
   "execution_count": 14,
   "metadata": {
    "collapsed": false
   },
   "outputs": [
    {
     "name": "stdout",
     "output_type": "stream",
     "text": [
      "Solution: http://www.pythonchallenge.com/pc/def/hockey.html\n"
     ]
    }
   ],
   "source": [
    "solution = url.format('hockey.html')\n",
    "print('Solution:', solution)"
   ]
  }
 ],
 "metadata": {
  "anaconda-cloud": {},
  "kernelspec": {
   "display_name": "Python [Root]",
   "language": "python",
   "name": "Python [Root]"
  },
  "language_info": {
   "codemirror_mode": {
    "name": "ipython",
    "version": 3
   },
   "file_extension": ".py",
   "mimetype": "text/x-python",
   "name": "python",
   "nbconvert_exporter": "python",
   "pygments_lexer": "ipython3",
   "version": "3.5.2"
  }
 },
 "nbformat": 4,
 "nbformat_minor": 0
}
